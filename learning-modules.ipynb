{
 "cells": [
  {
   "cell_type": "code",
   "execution_count": 1,
   "metadata": {},
   "outputs": [
    {
     "name": "stdout",
     "output_type": "stream",
     "text": [
      "['ArgInfo', 'Arguments', 'Attribute', 'BlockFinder', 'BoundArguments', 'CORO_CLOSED', 'CORO_CREATED', 'CORO_RUNNING', 'CORO_SUSPENDED', 'CO_ASYNC_GENERATOR', 'CO_COROUTINE', 'CO_GENERATOR', 'CO_ITERABLE_COROUTINE', 'CO_NESTED', 'CO_NEWLOCALS', 'CO_NOFREE', 'CO_OPTIMIZED', 'CO_VARARGS', 'CO_VARKEYWORDS', 'ClassFoundException', 'ClosureVars', 'EndOfBlock', 'FrameInfo', 'FullArgSpec', 'GEN_CLOSED', 'GEN_CREATED', 'GEN_RUNNING', 'GEN_SUSPENDED', 'OrderedDict', 'Parameter', 'Signature', 'TPFLAGS_IS_ABSTRACT', 'Traceback', '_ClassFinder', '_FrameInfo', '_KEYWORD_ONLY', '_NonUserDefinedCallables', '_POSITIONAL_ONLY', '_POSITIONAL_OR_KEYWORD', '_ParameterKind', '_Traceback', '_VAR_KEYWORD', '_VAR_POSITIONAL', '__all__', '__author__', '__builtins__', '__cached__', '__doc__', '__file__', '__loader__', '__name__', '__package__', '__spec__', '_check_class', '_check_instance', '_empty', '_filesbymodname', '_findclass', '_finddoc', '_get_code_position', '_get_code_position_from_tb', '_getmembers', '_has_code_flag', '_is_type', '_main', '_missing_arguments', '_sentinel', '_shadowed_dict', '_signature_bound_method', '_signature_from_builtin', '_signature_from_callable', '_signature_from_function', '_signature_fromstr', '_signature_get_partial', '_signature_get_user_defined_method', '_signature_is_builtin', '_signature_is_functionlike', '_signature_strip_non_python_syntax', '_static_getmro', '_too_many', '_void', 'abc', 'ast', 'attrgetter', 'builtins', 'classify_class_attrs', 'cleandoc', 'collections', 'currentframe', 'dis', 'enum', 'findsource', 'formatannotation', 'formatannotationrelativeto', 'formatargvalues', 'functools', 'get_annotations', 'getabsfile', 'getargs', 'getargvalues', 'getattr_static', 'getblock', 'getcallargs', 'getclasstree', 'getclosurevars', 'getcomments', 'getcoroutinelocals', 'getcoroutinestate', 'getdoc', 'getfile', 'getframeinfo', 'getfullargspec', 'getgeneratorlocals', 'getgeneratorstate', 'getinnerframes', 'getlineno', 'getmembers', 'getmembers_static', 'getmodule', 'getmodulename', 'getmro', 'getouterframes', 'getsource', 'getsourcefile', 'getsourcelines', 'importlib', 'indentsize', 'isabstract', 'isasyncgen', 'isasyncgenfunction', 'isawaitable', 'isbuiltin', 'isclass', 'iscode', 'iscoroutine', 'iscoroutinefunction', 'isdatadescriptor', 'isframe', 'isfunction', 'isgenerator', 'isgeneratorfunction', 'isgetsetdescriptor', 'iskeyword', 'ismemberdescriptor', 'ismethod', 'ismethoddescriptor', 'ismethodwrapper', 'ismodule', 'isroutine', 'istraceback', 'itertools', 'linecache', 'modulesbyfile', 'namedtuple', 'os', 're', 'signature', 'stack', 'sys', 'token', 'tokenize', 'trace', 'types', 'unwrap', 'walktree']\n",
      "__dir__\n",
      "__getattr__\n",
      "array\n",
      "bdate_range\n",
      "concat\n",
      "crosstab\n",
      "cut\n",
      "date_range\n",
      "eval\n",
      "factorize\n",
      "from_dummies\n",
      "get_dummies\n",
      "infer_freq\n",
      "interval_range\n",
      "isna\n",
      "isnull\n",
      "json_normalize\n",
      "lreshape\n",
      "melt\n",
      "merge\n",
      "merge_asof\n",
      "merge_ordered\n",
      "notna\n",
      "notnull\n",
      "period_range\n",
      "pivot\n",
      "pivot_table\n",
      "qcut\n",
      "read_clipboard\n",
      "read_csv\n",
      "read_excel\n",
      "read_feather\n",
      "read_fwf\n",
      "read_gbq\n",
      "read_hdf\n",
      "read_html\n",
      "read_json\n",
      "read_orc\n",
      "read_parquet\n",
      "read_pickle\n",
      "read_sas\n",
      "read_spss\n",
      "read_sql\n",
      "read_sql_query\n",
      "read_sql_table\n",
      "read_stata\n",
      "read_table\n",
      "read_xml\n",
      "set_eng_float_format\n",
      "show_versions\n",
      "test\n",
      "timedelta_range\n",
      "to_datetime\n",
      "to_numeric\n",
      "to_pickle\n",
      "to_timedelta\n",
      "unique\n",
      "value_counts\n",
      "wide_to_long\n"
     ]
    },
    {
     "name": "stderr",
     "output_type": "stream",
     "text": [
      "C:\\Users\\MARK\\AppData\\Local\\Temp\\ipykernel_12540\\1764384262.py:12: FutureWarning: pandas.Float64Index is deprecated and will be removed from pandas in a future version. Use pandas.Index with the appropriate dtype instead.\n",
      "  obj=getattr(pd,name)\n",
      "C:\\Users\\MARK\\AppData\\Local\\Temp\\ipykernel_12540\\1764384262.py:12: FutureWarning: pandas.Int64Index is deprecated and will be removed from pandas in a future version. Use pandas.Index with the appropriate dtype instead.\n",
      "  obj=getattr(pd,name)\n",
      "C:\\Users\\MARK\\AppData\\Local\\Temp\\ipykernel_12540\\1764384262.py:12: FutureWarning: pandas.UInt64Index is deprecated and will be removed from pandas in a future version. Use pandas.Index with the appropriate dtype instead.\n",
      "  obj=getattr(pd,name)\n"
     ]
    }
   ],
   "source": [
    "import os\n",
    "import pandas as pd\n",
    "import numpy as np\n",
    "import inspect\n",
    "\n",
    "print(dir(inspect))\n",
    "\n",
    "#print (type(os))\n",
    "#help(os)\n",
    "names=dir(pd)\n",
    "for name in names:\n",
    "    obj=getattr(pd,name)\n",
    "    if inspect.isfunction(obj):\n",
    "        print(name)\n",
    "          "
   ]
  },
  {
   "cell_type": "code",
   "execution_count": 2,
   "metadata": {},
   "outputs": [
    {
     "name": "stderr",
     "output_type": "stream",
     "text": [
      "C:\\Users\\MARK\\AppData\\Local\\Temp\\ipykernel_12540\\1805710512.py:2: FutureWarning: pandas.Float64Index is deprecated and will be removed from pandas in a future version. Use pandas.Index with the appropriate dtype instead.\n",
      "  obj=getattr(pd,name)\n",
      "C:\\Users\\MARK\\AppData\\Local\\Temp\\ipykernel_12540\\1805710512.py:2: FutureWarning: pandas.Int64Index is deprecated and will be removed from pandas in a future version. Use pandas.Index with the appropriate dtype instead.\n",
      "  obj=getattr(pd,name)\n",
      "C:\\Users\\MARK\\AppData\\Local\\Temp\\ipykernel_12540\\1805710512.py:2: FutureWarning: pandas.UInt64Index is deprecated and will be removed from pandas in a future version. Use pandas.Index with the appropriate dtype instead.\n",
      "  obj=getattr(pd,name)\n"
     ]
    }
   ],
   "source": [
    "for name in names:\n",
    "    obj=getattr(pd,name)\n",
    "    if inspect.ismethod(obj):\n",
    "        print(name)"
   ]
  },
  {
   "cell_type": "code",
   "execution_count": 3,
   "metadata": {},
   "outputs": [
    {
     "name": "stdout",
     "output_type": "stream",
     "text": [
      "True\n"
     ]
    }
   ],
   "source": [
    "class A:\n",
    "    pass\n",
    "\n",
    "result=inspect.isclass(A) \n",
    "print(result)"
   ]
  }
 ],
 "metadata": {
  "kernelspec": {
   "display_name": "base",
   "language": "python",
   "name": "python3"
  },
  "language_info": {
   "codemirror_mode": {
    "name": "ipython",
    "version": 3
   },
   "file_extension": ".py",
   "mimetype": "text/x-python",
   "name": "python",
   "nbconvert_exporter": "python",
   "pygments_lexer": "ipython3",
   "version": "3.11.4"
  }
 },
 "nbformat": 4,
 "nbformat_minor": 2
}
